{
 "cells": [
  {
   "cell_type": "code",
   "execution_count": 271,
   "id": "f8f4c91e",
   "metadata": {
    "pycharm": {
     "name": "#%%\n"
    }
   },
   "outputs": [],
   "source": [
    "import numpy as np\n",
    "import pandas as pd\n"
   ]
  },
  {
   "cell_type": "code",
   "execution_count": 272,
   "id": "eb32d93d",
   "metadata": {
    "pycharm": {
     "name": "#%%\n"
    }
   },
   "outputs": [],
   "source": [
    "df = pd.read_csv('books.csv')\n",
    "df_new = pd.read_csv('books_new.csv')\n"
   ]
  },
  {
   "cell_type": "code",
   "execution_count": 273,
   "id": "53d5da02",
   "metadata": {
    "pycharm": {
     "name": "#%%\n"
    }
   },
   "outputs": [
    {
     "data": {
      "text/html": [
       "<div>\n",
       "<style scoped>\n",
       "    .dataframe tbody tr th:only-of-type {\n",
       "        vertical-align: middle;\n",
       "    }\n",
       "\n",
       "    .dataframe tbody tr th {\n",
       "        vertical-align: top;\n",
       "    }\n",
       "\n",
       "    .dataframe thead th {\n",
       "        text-align: right;\n",
       "    }\n",
       "</style>\n",
       "<table border=\"1\" class=\"dataframe\">\n",
       "  <thead>\n",
       "    <tr style=\"text-align: right;\">\n",
       "      <th></th>\n",
       "      <th>Title</th>\n",
       "      <th>Author</th>\n",
       "      <th>Genre</th>\n",
       "      <th>Height</th>\n",
       "      <th>Publisher</th>\n",
       "    </tr>\n",
       "  </thead>\n",
       "  <tbody>\n",
       "    <tr>\n",
       "      <th>0</th>\n",
       "      <td>Fundamentals of Wavelets</td>\n",
       "      <td>Goswami, Jaideva</td>\n",
       "      <td>signal_processing</td>\n",
       "      <td>228</td>\n",
       "      <td>Wiley</td>\n",
       "    </tr>\n",
       "    <tr>\n",
       "      <th>1</th>\n",
       "      <td>Data Smart</td>\n",
       "      <td>Foreman, John</td>\n",
       "      <td>data_science</td>\n",
       "      <td>235</td>\n",
       "      <td>Wiley</td>\n",
       "    </tr>\n",
       "    <tr>\n",
       "      <th>2</th>\n",
       "      <td>God Created the Integers</td>\n",
       "      <td>Hawking, Stephen</td>\n",
       "      <td>mathematics</td>\n",
       "      <td>197</td>\n",
       "      <td>Penguin</td>\n",
       "    </tr>\n",
       "    <tr>\n",
       "      <th>3</th>\n",
       "      <td>Superfreakonomics</td>\n",
       "      <td>Dubner, Stephen</td>\n",
       "      <td>economics</td>\n",
       "      <td>179</td>\n",
       "      <td>HarperCollins</td>\n",
       "    </tr>\n",
       "    <tr>\n",
       "      <th>4</th>\n",
       "      <td>Orientalism</td>\n",
       "      <td>Said, Edward</td>\n",
       "      <td>history</td>\n",
       "      <td>197</td>\n",
       "      <td>Penguin</td>\n",
       "    </tr>\n",
       "  </tbody>\n",
       "</table>\n",
       "</div>"
      ],
      "text/plain": [
       "                      Title            Author              Genre  Height  \\\n",
       "0  Fundamentals of Wavelets  Goswami, Jaideva  signal_processing     228   \n",
       "1                Data Smart     Foreman, John       data_science     235   \n",
       "2  God Created the Integers  Hawking, Stephen        mathematics     197   \n",
       "3         Superfreakonomics   Dubner, Stephen          economics     179   \n",
       "4               Orientalism      Said, Edward            history     197   \n",
       "\n",
       "       Publisher  \n",
       "0          Wiley  \n",
       "1          Wiley  \n",
       "2        Penguin  \n",
       "3  HarperCollins  \n",
       "4        Penguin  "
      ]
     },
     "execution_count": 273,
     "metadata": {},
     "output_type": "execute_result"
    }
   ],
   "source": [
    "df.head()"
   ]
  },
  {
   "cell_type": "code",
   "execution_count": 274,
   "id": "6b388e26",
   "metadata": {
    "pycharm": {
     "name": "#%%\n"
    }
   },
   "outputs": [
    {
     "data": {
      "text/html": [
       "<div>\n",
       "<style scoped>\n",
       "    .dataframe tbody tr th:only-of-type {\n",
       "        vertical-align: middle;\n",
       "    }\n",
       "\n",
       "    .dataframe tbody tr th {\n",
       "        vertical-align: top;\n",
       "    }\n",
       "\n",
       "    .dataframe thead th {\n",
       "        text-align: right;\n",
       "    }\n",
       "</style>\n",
       "<table border=\"1\" class=\"dataframe\">\n",
       "  <thead>\n",
       "    <tr style=\"text-align: right;\">\n",
       "      <th></th>\n",
       "      <th>Title</th>\n",
       "      <th>Author</th>\n",
       "      <th>Genre</th>\n",
       "      <th>SubGenre</th>\n",
       "      <th>Height</th>\n",
       "      <th>Publisher</th>\n",
       "    </tr>\n",
       "  </thead>\n",
       "  <tbody>\n",
       "    <tr>\n",
       "      <th>0</th>\n",
       "      <td>Fundamentals of Wavelets</td>\n",
       "      <td>Goswami, Jaideva</td>\n",
       "      <td>tech</td>\n",
       "      <td>signal_processing</td>\n",
       "      <td>228</td>\n",
       "      <td>Wiley</td>\n",
       "    </tr>\n",
       "    <tr>\n",
       "      <th>1</th>\n",
       "      <td>Data Smart</td>\n",
       "      <td>Foreman, John</td>\n",
       "      <td>tech</td>\n",
       "      <td>data_science</td>\n",
       "      <td>235</td>\n",
       "      <td>Wiley</td>\n",
       "    </tr>\n",
       "    <tr>\n",
       "      <th>2</th>\n",
       "      <td>God Created the Integers</td>\n",
       "      <td>Hawking, Stephen</td>\n",
       "      <td>tech</td>\n",
       "      <td>mathematics</td>\n",
       "      <td>197</td>\n",
       "      <td>Penguin</td>\n",
       "    </tr>\n",
       "    <tr>\n",
       "      <th>3</th>\n",
       "      <td>Superfreakonomics</td>\n",
       "      <td>Dubner, Stephen</td>\n",
       "      <td>science</td>\n",
       "      <td>economics</td>\n",
       "      <td>179</td>\n",
       "      <td>HarperCollins</td>\n",
       "    </tr>\n",
       "    <tr>\n",
       "      <th>4</th>\n",
       "      <td>Orientalism</td>\n",
       "      <td>Said, Edward</td>\n",
       "      <td>nonfiction</td>\n",
       "      <td>history</td>\n",
       "      <td>197</td>\n",
       "      <td>Penguin</td>\n",
       "    </tr>\n",
       "  </tbody>\n",
       "</table>\n",
       "</div>"
      ],
      "text/plain": [
       "                      Title            Author       Genre           SubGenre  \\\n",
       "0  Fundamentals of Wavelets  Goswami, Jaideva        tech  signal_processing   \n",
       "1                Data Smart     Foreman, John        tech       data_science   \n",
       "2  God Created the Integers  Hawking, Stephen        tech        mathematics   \n",
       "3         Superfreakonomics   Dubner, Stephen     science          economics   \n",
       "4               Orientalism      Said, Edward  nonfiction            history   \n",
       "\n",
       "   Height      Publisher  \n",
       "0     228          Wiley  \n",
       "1     235          Wiley  \n",
       "2     197        Penguin  \n",
       "3     179  HarperCollins  \n",
       "4     197        Penguin  "
      ]
     },
     "execution_count": 274,
     "metadata": {},
     "output_type": "execute_result"
    }
   ],
   "source": [
    "df_new.head()"
   ]
  },
  {
   "cell_type": "code",
   "execution_count": 275,
   "id": "70dc0421",
   "metadata": {
    "pycharm": {
     "name": "#%%\n"
    }
   },
   "outputs": [
    {
     "data": {
      "text/plain": [
       "(211, 5)"
      ]
     },
     "execution_count": 275,
     "metadata": {},
     "output_type": "execute_result"
    }
   ],
   "source": [
    "df.shape"
   ]
  },
  {
   "cell_type": "code",
   "execution_count": 276,
   "id": "dc6ca0ea",
   "metadata": {
    "pycharm": {
     "name": "#%%\n"
    }
   },
   "outputs": [
    {
     "data": {
      "text/plain": [
       "(211, 6)"
      ]
     },
     "execution_count": 276,
     "metadata": {},
     "output_type": "execute_result"
    }
   ],
   "source": [
    "df_new.shape"
   ]
  },
  {
   "cell_type": "code",
   "execution_count": 277,
   "id": "bc8e9c80",
   "metadata": {
    "pycharm": {
     "name": "#%%\n"
    }
   },
   "outputs": [
    {
     "data": {
      "text/html": [
       "<div>\n",
       "<style scoped>\n",
       "    .dataframe tbody tr th:only-of-type {\n",
       "        vertical-align: middle;\n",
       "    }\n",
       "\n",
       "    .dataframe tbody tr th {\n",
       "        vertical-align: top;\n",
       "    }\n",
       "\n",
       "    .dataframe thead th {\n",
       "        text-align: right;\n",
       "    }\n",
       "</style>\n",
       "<table border=\"1\" class=\"dataframe\">\n",
       "  <thead>\n",
       "    <tr style=\"text-align: right;\">\n",
       "      <th></th>\n",
       "      <th>Title</th>\n",
       "      <th>Author</th>\n",
       "      <th>Genre</th>\n",
       "      <th>Height</th>\n",
       "      <th>Publisher</th>\n",
       "    </tr>\n",
       "  </thead>\n",
       "  <tbody>\n",
       "    <tr>\n",
       "      <th>0</th>\n",
       "      <td>Fundamentals of Wavelets</td>\n",
       "      <td>Goswami, Jaideva</td>\n",
       "      <td>signal_processing</td>\n",
       "      <td>228</td>\n",
       "      <td>Wiley</td>\n",
       "    </tr>\n",
       "    <tr>\n",
       "      <th>1</th>\n",
       "      <td>Data Smart</td>\n",
       "      <td>Foreman, John</td>\n",
       "      <td>data_science</td>\n",
       "      <td>235</td>\n",
       "      <td>Wiley</td>\n",
       "    </tr>\n",
       "    <tr>\n",
       "      <th>2</th>\n",
       "      <td>God Created the Integers</td>\n",
       "      <td>Hawking, Stephen</td>\n",
       "      <td>mathematics</td>\n",
       "      <td>197</td>\n",
       "      <td>Penguin</td>\n",
       "    </tr>\n",
       "    <tr>\n",
       "      <th>3</th>\n",
       "      <td>Superfreakonomics</td>\n",
       "      <td>Dubner, Stephen</td>\n",
       "      <td>economics</td>\n",
       "      <td>179</td>\n",
       "      <td>HarperCollins</td>\n",
       "    </tr>\n",
       "    <tr>\n",
       "      <th>4</th>\n",
       "      <td>Orientalism</td>\n",
       "      <td>Said, Edward</td>\n",
       "      <td>history</td>\n",
       "      <td>197</td>\n",
       "      <td>Penguin</td>\n",
       "    </tr>\n",
       "  </tbody>\n",
       "</table>\n",
       "</div>"
      ],
      "text/plain": [
       "                      Title            Author              Genre  Height  \\\n",
       "0  Fundamentals of Wavelets  Goswami, Jaideva  signal_processing     228   \n",
       "1                Data Smart     Foreman, John       data_science     235   \n",
       "2  God Created the Integers  Hawking, Stephen        mathematics     197   \n",
       "3         Superfreakonomics   Dubner, Stephen          economics     179   \n",
       "4               Orientalism      Said, Edward            history     197   \n",
       "\n",
       "       Publisher  \n",
       "0          Wiley  \n",
       "1          Wiley  \n",
       "2        Penguin  \n",
       "3  HarperCollins  \n",
       "4        Penguin  "
      ]
     },
     "execution_count": 277,
     "metadata": {},
     "output_type": "execute_result"
    }
   ],
   "source": [
    "df.head()"
   ]
  },
  {
   "cell_type": "markdown",
   "id": "c8c32cd5",
   "metadata": {
    "pycharm": {
     "name": "#%% md\n"
    }
   },
   "source": [
    "## Content Based Recommendation\n"
   ]
  },
  {
   "cell_type": "code",
   "execution_count": 278,
   "id": "c8e81fb3",
   "metadata": {
    "pycharm": {
     "name": "#%%\n"
    }
   },
   "outputs": [],
   "source": [
    "main = df.merge(df_new,on='Title')"
   ]
  },
  {
   "cell_type": "code",
   "execution_count": 279,
   "id": "f47f4ab5",
   "metadata": {
    "pycharm": {
     "name": "#%%\n"
    }
   },
   "outputs": [
    {
     "data": {
      "text/html": [
       "<div>\n",
       "<style scoped>\n",
       "    .dataframe tbody tr th:only-of-type {\n",
       "        vertical-align: middle;\n",
       "    }\n",
       "\n",
       "    .dataframe tbody tr th {\n",
       "        vertical-align: top;\n",
       "    }\n",
       "\n",
       "    .dataframe thead th {\n",
       "        text-align: right;\n",
       "    }\n",
       "</style>\n",
       "<table border=\"1\" class=\"dataframe\">\n",
       "  <thead>\n",
       "    <tr style=\"text-align: right;\">\n",
       "      <th></th>\n",
       "      <th>Title</th>\n",
       "      <th>Author_x</th>\n",
       "      <th>Genre_x</th>\n",
       "      <th>Height_x</th>\n",
       "      <th>Publisher_x</th>\n",
       "      <th>Author_y</th>\n",
       "      <th>Genre_y</th>\n",
       "      <th>SubGenre</th>\n",
       "      <th>Height_y</th>\n",
       "      <th>Publisher_y</th>\n",
       "    </tr>\n",
       "  </thead>\n",
       "  <tbody>\n",
       "    <tr>\n",
       "      <th>0</th>\n",
       "      <td>Fundamentals of Wavelets</td>\n",
       "      <td>Goswami, Jaideva</td>\n",
       "      <td>signal_processing</td>\n",
       "      <td>228</td>\n",
       "      <td>Wiley</td>\n",
       "      <td>Goswami, Jaideva</td>\n",
       "      <td>tech</td>\n",
       "      <td>signal_processing</td>\n",
       "      <td>228</td>\n",
       "      <td>Wiley</td>\n",
       "    </tr>\n",
       "    <tr>\n",
       "      <th>1</th>\n",
       "      <td>Data Smart</td>\n",
       "      <td>Foreman, John</td>\n",
       "      <td>data_science</td>\n",
       "      <td>235</td>\n",
       "      <td>Wiley</td>\n",
       "      <td>Foreman, John</td>\n",
       "      <td>tech</td>\n",
       "      <td>data_science</td>\n",
       "      <td>235</td>\n",
       "      <td>Wiley</td>\n",
       "    </tr>\n",
       "    <tr>\n",
       "      <th>2</th>\n",
       "      <td>God Created the Integers</td>\n",
       "      <td>Hawking, Stephen</td>\n",
       "      <td>mathematics</td>\n",
       "      <td>197</td>\n",
       "      <td>Penguin</td>\n",
       "      <td>Hawking, Stephen</td>\n",
       "      <td>tech</td>\n",
       "      <td>mathematics</td>\n",
       "      <td>197</td>\n",
       "      <td>Penguin</td>\n",
       "    </tr>\n",
       "    <tr>\n",
       "      <th>3</th>\n",
       "      <td>Superfreakonomics</td>\n",
       "      <td>Dubner, Stephen</td>\n",
       "      <td>economics</td>\n",
       "      <td>179</td>\n",
       "      <td>HarperCollins</td>\n",
       "      <td>Dubner, Stephen</td>\n",
       "      <td>science</td>\n",
       "      <td>economics</td>\n",
       "      <td>179</td>\n",
       "      <td>HarperCollins</td>\n",
       "    </tr>\n",
       "    <tr>\n",
       "      <th>4</th>\n",
       "      <td>Orientalism</td>\n",
       "      <td>Said, Edward</td>\n",
       "      <td>history</td>\n",
       "      <td>197</td>\n",
       "      <td>Penguin</td>\n",
       "      <td>Said, Edward</td>\n",
       "      <td>nonfiction</td>\n",
       "      <td>history</td>\n",
       "      <td>197</td>\n",
       "      <td>Penguin</td>\n",
       "    </tr>\n",
       "  </tbody>\n",
       "</table>\n",
       "</div>"
      ],
      "text/plain": [
       "                      Title          Author_x            Genre_x  Height_x  \\\n",
       "0  Fundamentals of Wavelets  Goswami, Jaideva  signal_processing       228   \n",
       "1                Data Smart     Foreman, John       data_science       235   \n",
       "2  God Created the Integers  Hawking, Stephen        mathematics       197   \n",
       "3         Superfreakonomics   Dubner, Stephen          economics       179   \n",
       "4               Orientalism      Said, Edward            history       197   \n",
       "\n",
       "     Publisher_x          Author_y     Genre_y           SubGenre  Height_y  \\\n",
       "0          Wiley  Goswami, Jaideva        tech  signal_processing       228   \n",
       "1          Wiley     Foreman, John        tech       data_science       235   \n",
       "2        Penguin  Hawking, Stephen        tech        mathematics       197   \n",
       "3  HarperCollins   Dubner, Stephen     science          economics       179   \n",
       "4        Penguin      Said, Edward  nonfiction            history       197   \n",
       "\n",
       "     Publisher_y  \n",
       "0          Wiley  \n",
       "1          Wiley  \n",
       "2        Penguin  \n",
       "3  HarperCollins  \n",
       "4        Penguin  "
      ]
     },
     "execution_count": 279,
     "metadata": {},
     "output_type": "execute_result"
    }
   ],
   "source": [
    "main.head()"
   ]
  },
  {
   "cell_type": "code",
   "execution_count": 280,
   "id": "92e5875b",
   "metadata": {
    "pycharm": {
     "name": "#%%\n"
    }
   },
   "outputs": [
    {
     "name": "stdout",
     "output_type": "stream",
     "text": [
      "<class 'pandas.core.frame.DataFrame'>\n",
      "Int64Index: 213 entries, 0 to 212\n",
      "Data columns (total 10 columns):\n",
      " #   Column       Non-Null Count  Dtype \n",
      "---  ------       --------------  ----- \n",
      " 0   Title        213 non-null    object\n",
      " 1   Author_x     189 non-null    object\n",
      " 2   Genre_x      213 non-null    object\n",
      " 3   Height_x     213 non-null    int64 \n",
      " 4   Publisher_x  116 non-null    object\n",
      " 5   Author_y     189 non-null    object\n",
      " 6   Genre_y      213 non-null    object\n",
      " 7   SubGenre     213 non-null    object\n",
      " 8   Height_y     213 non-null    int64 \n",
      " 9   Publisher_y  116 non-null    object\n",
      "dtypes: int64(2), object(8)\n",
      "memory usage: 18.3+ KB\n"
     ]
    }
   ],
   "source": [
    "main.info()"
   ]
  },
  {
   "cell_type": "code",
   "execution_count": 281,
   "id": "b401bfc6",
   "metadata": {
    "pycharm": {
     "name": "#%%\n"
    }
   },
   "outputs": [],
   "source": [
    "books_data = main[['Title','Author_x','Publisher_x','Genre_x','SubGenre']]"
   ]
  },
  {
   "cell_type": "code",
   "execution_count": 282,
   "id": "0cd43876",
   "metadata": {
    "pycharm": {
     "name": "#%%\n"
    }
   },
   "outputs": [
    {
     "data": {
      "text/html": [
       "<div>\n",
       "<style scoped>\n",
       "    .dataframe tbody tr th:only-of-type {\n",
       "        vertical-align: middle;\n",
       "    }\n",
       "\n",
       "    .dataframe tbody tr th {\n",
       "        vertical-align: top;\n",
       "    }\n",
       "\n",
       "    .dataframe thead th {\n",
       "        text-align: right;\n",
       "    }\n",
       "</style>\n",
       "<table border=\"1\" class=\"dataframe\">\n",
       "  <thead>\n",
       "    <tr style=\"text-align: right;\">\n",
       "      <th></th>\n",
       "      <th>Title</th>\n",
       "      <th>Author_x</th>\n",
       "      <th>Publisher_x</th>\n",
       "      <th>Genre_x</th>\n",
       "      <th>SubGenre</th>\n",
       "    </tr>\n",
       "  </thead>\n",
       "  <tbody>\n",
       "    <tr>\n",
       "      <th>0</th>\n",
       "      <td>Fundamentals of Wavelets</td>\n",
       "      <td>Goswami, Jaideva</td>\n",
       "      <td>Wiley</td>\n",
       "      <td>signal_processing</td>\n",
       "      <td>signal_processing</td>\n",
       "    </tr>\n",
       "    <tr>\n",
       "      <th>1</th>\n",
       "      <td>Data Smart</td>\n",
       "      <td>Foreman, John</td>\n",
       "      <td>Wiley</td>\n",
       "      <td>data_science</td>\n",
       "      <td>data_science</td>\n",
       "    </tr>\n",
       "    <tr>\n",
       "      <th>2</th>\n",
       "      <td>God Created the Integers</td>\n",
       "      <td>Hawking, Stephen</td>\n",
       "      <td>Penguin</td>\n",
       "      <td>mathematics</td>\n",
       "      <td>mathematics</td>\n",
       "    </tr>\n",
       "    <tr>\n",
       "      <th>3</th>\n",
       "      <td>Superfreakonomics</td>\n",
       "      <td>Dubner, Stephen</td>\n",
       "      <td>HarperCollins</td>\n",
       "      <td>economics</td>\n",
       "      <td>economics</td>\n",
       "    </tr>\n",
       "    <tr>\n",
       "      <th>4</th>\n",
       "      <td>Orientalism</td>\n",
       "      <td>Said, Edward</td>\n",
       "      <td>Penguin</td>\n",
       "      <td>history</td>\n",
       "      <td>history</td>\n",
       "    </tr>\n",
       "  </tbody>\n",
       "</table>\n",
       "</div>"
      ],
      "text/plain": [
       "                      Title          Author_x    Publisher_x  \\\n",
       "0  Fundamentals of Wavelets  Goswami, Jaideva          Wiley   \n",
       "1                Data Smart     Foreman, John          Wiley   \n",
       "2  God Created the Integers  Hawking, Stephen        Penguin   \n",
       "3         Superfreakonomics   Dubner, Stephen  HarperCollins   \n",
       "4               Orientalism      Said, Edward        Penguin   \n",
       "\n",
       "             Genre_x           SubGenre  \n",
       "0  signal_processing  signal_processing  \n",
       "1       data_science       data_science  \n",
       "2        mathematics        mathematics  \n",
       "3          economics          economics  \n",
       "4            history            history  "
      ]
     },
     "execution_count": 282,
     "metadata": {},
     "output_type": "execute_result"
    }
   ],
   "source": [
    "books_data.head()"
   ]
  },
  {
   "cell_type": "code",
   "execution_count": 283,
   "id": "6dab4c04",
   "metadata": {
    "pycharm": {
     "name": "#%%\n"
    }
   },
   "outputs": [
    {
     "data": {
      "text/plain": [
       "Title           0\n",
       "Author_x       24\n",
       "Publisher_x    97\n",
       "Genre_x         0\n",
       "SubGenre        0\n",
       "dtype: int64"
      ]
     },
     "execution_count": 283,
     "metadata": {},
     "output_type": "execute_result"
    }
   ],
   "source": [
    "books_data.isnull().sum()"
   ]
  },
  {
   "cell_type": "code",
   "execution_count": 284,
   "id": "89406c06",
   "metadata": {
    "pycharm": {
     "name": "#%%\n"
    }
   },
   "outputs": [
    {
     "data": {
      "text/plain": [
       "24"
      ]
     },
     "execution_count": 284,
     "metadata": {},
     "output_type": "execute_result"
    }
   ],
   "source": [
    "books_data['Author_x'].isnull().sum()"
   ]
  },
  {
   "cell_type": "code",
   "execution_count": 285,
   "id": "f8f96ef7",
   "metadata": {
    "pycharm": {
     "name": "#%%\n"
    }
   },
   "outputs": [
    {
     "data": {
      "text/plain": [
       "(213,)"
      ]
     },
     "execution_count": 285,
     "metadata": {},
     "output_type": "execute_result"
    }
   ],
   "source": [
    "books_data['Author_x'].shape"
   ]
  },
  {
   "cell_type": "code",
   "execution_count": 286,
   "id": "1854bbf7",
   "metadata": {
    "pycharm": {
     "name": "#%%\n"
    }
   },
   "outputs": [
    {
     "data": {
      "text/plain": [
       "(213,)"
      ]
     },
     "execution_count": 286,
     "metadata": {},
     "output_type": "execute_result"
    }
   ],
   "source": [
    "books_data['Publisher_x'].shape"
   ]
  },
  {
   "cell_type": "code",
   "execution_count": 287,
   "id": "056d9891",
   "metadata": {
    "pycharm": {
     "name": "#%%\n"
    }
   },
   "outputs": [
    {
     "data": {
      "text/plain": [
       "97"
      ]
     },
     "execution_count": 287,
     "metadata": {},
     "output_type": "execute_result"
    }
   ],
   "source": [
    "books_data['Publisher_x'].isnull().sum()"
   ]
  },
  {
   "cell_type": "code",
   "execution_count": 288,
   "id": "50e64767",
   "metadata": {
    "pycharm": {
     "name": "#%%\n"
    }
   },
   "outputs": [
    {
     "data": {
      "text/plain": [
       "0              Wiley\n",
       "1              Wiley\n",
       "2            Penguin\n",
       "3      HarperCollins\n",
       "4            Penguin\n",
       "           ...      \n",
       "208              abc\n",
       "209              abc\n",
       "210              abc\n",
       "211              abc\n",
       "212              abc\n",
       "Name: Publisher_x, Length: 213, dtype: object"
      ]
     },
     "execution_count": 288,
     "metadata": {},
     "output_type": "execute_result"
    }
   ],
   "source": [
    "books_data['Publisher_x'].fillna(\"abc\")"
   ]
  },
  {
   "cell_type": "code",
   "execution_count": 289,
   "id": "e27b41f2",
   "metadata": {
    "pycharm": {
     "name": "#%%\n"
    }
   },
   "outputs": [
    {
     "data": {
      "text/plain": [
       "97"
      ]
     },
     "execution_count": 289,
     "metadata": {},
     "output_type": "execute_result"
    }
   ],
   "source": [
    "books_data['Publisher_x'].isnull().sum()"
   ]
  },
  {
   "cell_type": "code",
   "execution_count": 290,
   "id": "4cc8f34e",
   "metadata": {
    "pycharm": {
     "name": "#%%\n"
    }
   },
   "outputs": [
    {
     "name": "stderr",
     "output_type": "stream",
     "text": [
      "C:\\Users\\Kajal\\AppData\\Local\\Temp\\ipykernel_37980\\3732632683.py:1: SettingWithCopyWarning: \n",
      "A value is trying to be set on a copy of a slice from a DataFrame\n",
      "\n",
      "See the caveats in the documentation: https://pandas.pydata.org/pandas-docs/stable/user_guide/indexing.html#returning-a-view-versus-a-copy\n",
      "  books_data.dropna(inplace=True)\n"
     ]
    }
   ],
   "source": [
    "books_data.dropna(inplace=True)"
   ]
  },
  {
   "cell_type": "code",
   "execution_count": 291,
   "id": "c9cc4b94",
   "metadata": {
    "pycharm": {
     "name": "#%%\n"
    }
   },
   "outputs": [
    {
     "data": {
      "text/plain": [
       "Title          0\n",
       "Author_x       0\n",
       "Publisher_x    0\n",
       "Genre_x        0\n",
       "SubGenre       0\n",
       "dtype: int64"
      ]
     },
     "execution_count": 291,
     "metadata": {},
     "output_type": "execute_result"
    }
   ],
   "source": [
    "books_data.isnull().sum()"
   ]
  },
  {
   "cell_type": "code",
   "execution_count": 292,
   "id": "6c243b21",
   "metadata": {
    "pycharm": {
     "name": "#%%\n"
    }
   },
   "outputs": [
    {
     "data": {
      "text/plain": [
       "(113, 5)"
      ]
     },
     "execution_count": 292,
     "metadata": {},
     "output_type": "execute_result"
    }
   ],
   "source": [
    "books_data.shape"
   ]
  },
  {
   "cell_type": "code",
   "execution_count": 293,
   "id": "dfe682e3",
   "metadata": {
    "pycharm": {
     "name": "#%%\n"
    }
   },
   "outputs": [
    {
     "data": {
      "text/html": [
       "<div>\n",
       "<style scoped>\n",
       "    .dataframe tbody tr th:only-of-type {\n",
       "        vertical-align: middle;\n",
       "    }\n",
       "\n",
       "    .dataframe tbody tr th {\n",
       "        vertical-align: top;\n",
       "    }\n",
       "\n",
       "    .dataframe thead th {\n",
       "        text-align: right;\n",
       "    }\n",
       "</style>\n",
       "<table border=\"1\" class=\"dataframe\">\n",
       "  <thead>\n",
       "    <tr style=\"text-align: right;\">\n",
       "      <th></th>\n",
       "      <th>Title</th>\n",
       "      <th>Author_x</th>\n",
       "      <th>Publisher_x</th>\n",
       "      <th>Genre_x</th>\n",
       "      <th>SubGenre</th>\n",
       "    </tr>\n",
       "  </thead>\n",
       "  <tbody>\n",
       "    <tr>\n",
       "      <th>0</th>\n",
       "      <td>Fundamentals of Wavelets</td>\n",
       "      <td>Goswami, Jaideva</td>\n",
       "      <td>Wiley</td>\n",
       "      <td>signal_processing</td>\n",
       "      <td>signal_processing</td>\n",
       "    </tr>\n",
       "  </tbody>\n",
       "</table>\n",
       "</div>"
      ],
      "text/plain": [
       "                      Title          Author_x Publisher_x            Genre_x  \\\n",
       "0  Fundamentals of Wavelets  Goswami, Jaideva       Wiley  signal_processing   \n",
       "\n",
       "            SubGenre  \n",
       "0  signal_processing  "
      ]
     },
     "execution_count": 293,
     "metadata": {},
     "output_type": "execute_result"
    }
   ],
   "source": [
    "books_data.head(1)"
   ]
  },
  {
   "cell_type": "code",
   "execution_count": 294,
   "id": "8dbece41",
   "metadata": {
    "pycharm": {
     "name": "#%%\n"
    }
   },
   "outputs": [
    {
     "data": {
      "text/plain": [
       "'Goswami, Jaideva'"
      ]
     },
     "execution_count": 294,
     "metadata": {},
     "output_type": "execute_result"
    }
   ],
   "source": [
    "books_data.iloc[0].Author_x"
   ]
  },
  {
   "cell_type": "code",
   "execution_count": 295,
   "id": "d66e99b7",
   "metadata": {
    "pycharm": {
     "name": "#%%\n"
    }
   },
   "outputs": [
    {
     "data": {
      "text/plain": [
       "fiction              36\n",
       "nonfiction           18\n",
       "history              12\n",
       "data_science         11\n",
       "economics             9\n",
       "science               8\n",
       "philosophy            7\n",
       "computer_science      6\n",
       "mathematics           3\n",
       "signal_processing     2\n",
       "psychology            1\n",
       "Name: Genre_x, dtype: int64"
      ]
     },
     "execution_count": 295,
     "metadata": {},
     "output_type": "execute_result"
    }
   ],
   "source": [
    "books_data['Genre_x'].value_counts()"
   ]
  },
  {
   "cell_type": "code",
   "execution_count": 296,
   "id": "bb7c29b5",
   "metadata": {
    "pycharm": {
     "name": "#%%\n"
    }
   },
   "outputs": [
    {
     "data": {
      "text/plain": [
       "history              18\n",
       "novel                18\n",
       "classic              17\n",
       "economics            10\n",
       "data_science          9\n",
       "autobiography         7\n",
       "signal_processing     5\n",
       "mathematics           5\n",
       "computer_science      5\n",
       "physics               5\n",
       "misc                  4\n",
       "psychology            2\n",
       "philosophy            2\n",
       "poetry                1\n",
       "education             1\n",
       "science               1\n",
       "trivia                1\n",
       "objectivism           1\n",
       "anthology             1\n",
       "Name: SubGenre, dtype: int64"
      ]
     },
     "execution_count": 296,
     "metadata": {},
     "output_type": "execute_result"
    }
   ],
   "source": [
    "books_data['SubGenre'].value_counts()"
   ]
  },
  {
   "cell_type": "code",
   "execution_count": 297,
   "id": "17d20537",
   "metadata": {
    "pycharm": {
     "name": "#%%\n"
    }
   },
   "outputs": [
    {
     "data": {
      "text/plain": [
       "(113,)"
      ]
     },
     "execution_count": 297,
     "metadata": {},
     "output_type": "execute_result"
    }
   ],
   "source": [
    "books_data['SubGenre'].shape"
   ]
  },
  {
   "cell_type": "code",
   "execution_count": 298,
   "id": "ee14e5dc",
   "metadata": {
    "pycharm": {
     "name": "#%%\n"
    }
   },
   "outputs": [
    {
     "name": "stderr",
     "output_type": "stream",
     "text": [
      "C:\\Users\\Kajal\\AppData\\Local\\Temp\\ipykernel_37980\\2588955251.py:1: SettingWithCopyWarning: \n",
      "A value is trying to be set on a copy of a slice from a DataFrame.\n",
      "Try using .loc[row_indexer,col_indexer] = value instead\n",
      "\n",
      "See the caveats in the documentation: https://pandas.pydata.org/pandas-docs/stable/user_guide/indexing.html#returning-a-view-versus-a-copy\n",
      "  books_data['Genres'] = books_data['SubGenre']+ (\" , \")+ books_data['Genre_x']\n"
     ]
    }
   ],
   "source": [
    "books_data['Genres'] = books_data['SubGenre']+ (\" , \")+ books_data['Genre_x']"
   ]
  },
  {
   "cell_type": "code",
   "execution_count": 299,
   "id": "10a7e24f",
   "metadata": {
    "pycharm": {
     "name": "#%%\n"
    }
   },
   "outputs": [
    {
     "data": {
      "text/html": [
       "<div>\n",
       "<style scoped>\n",
       "    .dataframe tbody tr th:only-of-type {\n",
       "        vertical-align: middle;\n",
       "    }\n",
       "\n",
       "    .dataframe tbody tr th {\n",
       "        vertical-align: top;\n",
       "    }\n",
       "\n",
       "    .dataframe thead th {\n",
       "        text-align: right;\n",
       "    }\n",
       "</style>\n",
       "<table border=\"1\" class=\"dataframe\">\n",
       "  <thead>\n",
       "    <tr style=\"text-align: right;\">\n",
       "      <th></th>\n",
       "      <th>Title</th>\n",
       "      <th>Author_x</th>\n",
       "      <th>Publisher_x</th>\n",
       "      <th>Genre_x</th>\n",
       "      <th>SubGenre</th>\n",
       "      <th>Genres</th>\n",
       "    </tr>\n",
       "  </thead>\n",
       "  <tbody>\n",
       "    <tr>\n",
       "      <th>0</th>\n",
       "      <td>Fundamentals of Wavelets</td>\n",
       "      <td>Goswami, Jaideva</td>\n",
       "      <td>Wiley</td>\n",
       "      <td>signal_processing</td>\n",
       "      <td>signal_processing</td>\n",
       "      <td>signal_processing , signal_processing</td>\n",
       "    </tr>\n",
       "    <tr>\n",
       "      <th>1</th>\n",
       "      <td>Data Smart</td>\n",
       "      <td>Foreman, John</td>\n",
       "      <td>Wiley</td>\n",
       "      <td>data_science</td>\n",
       "      <td>data_science</td>\n",
       "      <td>data_science , data_science</td>\n",
       "    </tr>\n",
       "    <tr>\n",
       "      <th>2</th>\n",
       "      <td>God Created the Integers</td>\n",
       "      <td>Hawking, Stephen</td>\n",
       "      <td>Penguin</td>\n",
       "      <td>mathematics</td>\n",
       "      <td>mathematics</td>\n",
       "      <td>mathematics , mathematics</td>\n",
       "    </tr>\n",
       "    <tr>\n",
       "      <th>3</th>\n",
       "      <td>Superfreakonomics</td>\n",
       "      <td>Dubner, Stephen</td>\n",
       "      <td>HarperCollins</td>\n",
       "      <td>economics</td>\n",
       "      <td>economics</td>\n",
       "      <td>economics , economics</td>\n",
       "    </tr>\n",
       "    <tr>\n",
       "      <th>4</th>\n",
       "      <td>Orientalism</td>\n",
       "      <td>Said, Edward</td>\n",
       "      <td>Penguin</td>\n",
       "      <td>history</td>\n",
       "      <td>history</td>\n",
       "      <td>history , history</td>\n",
       "    </tr>\n",
       "  </tbody>\n",
       "</table>\n",
       "</div>"
      ],
      "text/plain": [
       "                      Title          Author_x    Publisher_x  \\\n",
       "0  Fundamentals of Wavelets  Goswami, Jaideva          Wiley   \n",
       "1                Data Smart     Foreman, John          Wiley   \n",
       "2  God Created the Integers  Hawking, Stephen        Penguin   \n",
       "3         Superfreakonomics   Dubner, Stephen  HarperCollins   \n",
       "4               Orientalism      Said, Edward        Penguin   \n",
       "\n",
       "             Genre_x           SubGenre                                 Genres  \n",
       "0  signal_processing  signal_processing  signal_processing , signal_processing  \n",
       "1       data_science       data_science            data_science , data_science  \n",
       "2        mathematics        mathematics              mathematics , mathematics  \n",
       "3          economics          economics                  economics , economics  \n",
       "4            history            history                      history , history  "
      ]
     },
     "execution_count": 299,
     "metadata": {},
     "output_type": "execute_result"
    }
   ],
   "source": [
    "books_data.head()"
   ]
  },
  {
   "cell_type": "code",
   "execution_count": 300,
   "id": "38ffd17b",
   "metadata": {
    "pycharm": {
     "name": "#%%\n"
    }
   },
   "outputs": [
    {
     "name": "stderr",
     "output_type": "stream",
     "text": [
      "C:\\Users\\Kajal\\AppData\\Local\\Temp\\ipykernel_37980\\2802537626.py:1: SettingWithCopyWarning: \n",
      "A value is trying to be set on a copy of a slice from a DataFrame.\n",
      "Try using .loc[row_indexer,col_indexer] = value instead\n",
      "\n",
      "See the caveats in the documentation: https://pandas.pydata.org/pandas-docs/stable/user_guide/indexing.html#returning-a-view-versus-a-copy\n",
      "  books_data['Author'] = books_data['Author_x']\n",
      "C:\\Users\\Kajal\\AppData\\Local\\Temp\\ipykernel_37980\\2802537626.py:2: SettingWithCopyWarning: \n",
      "A value is trying to be set on a copy of a slice from a DataFrame.\n",
      "Try using .loc[row_indexer,col_indexer] = value instead\n",
      "\n",
      "See the caveats in the documentation: https://pandas.pydata.org/pandas-docs/stable/user_guide/indexing.html#returning-a-view-versus-a-copy\n",
      "  books_data['Publisher'] = books_data['Publisher_x']\n"
     ]
    }
   ],
   "source": [
    "books_data['Author'] = books_data['Author_x']\n",
    "books_data['Publisher'] = books_data['Publisher_x']"
   ]
  },
  {
   "cell_type": "code",
   "execution_count": 301,
   "id": "880c9b80",
   "metadata": {
    "scrolled": true,
    "pycharm": {
     "name": "#%%\n"
    }
   },
   "outputs": [
    {
     "data": {
      "text/html": [
       "<div>\n",
       "<style scoped>\n",
       "    .dataframe tbody tr th:only-of-type {\n",
       "        vertical-align: middle;\n",
       "    }\n",
       "\n",
       "    .dataframe tbody tr th {\n",
       "        vertical-align: top;\n",
       "    }\n",
       "\n",
       "    .dataframe thead th {\n",
       "        text-align: right;\n",
       "    }\n",
       "</style>\n",
       "<table border=\"1\" class=\"dataframe\">\n",
       "  <thead>\n",
       "    <tr style=\"text-align: right;\">\n",
       "      <th></th>\n",
       "      <th>Title</th>\n",
       "      <th>Author_x</th>\n",
       "      <th>Publisher_x</th>\n",
       "      <th>Genre_x</th>\n",
       "      <th>SubGenre</th>\n",
       "      <th>Genres</th>\n",
       "      <th>Author</th>\n",
       "      <th>Publisher</th>\n",
       "    </tr>\n",
       "  </thead>\n",
       "  <tbody>\n",
       "    <tr>\n",
       "      <th>0</th>\n",
       "      <td>Fundamentals of Wavelets</td>\n",
       "      <td>Goswami, Jaideva</td>\n",
       "      <td>Wiley</td>\n",
       "      <td>signal_processing</td>\n",
       "      <td>signal_processing</td>\n",
       "      <td>signal_processing , signal_processing</td>\n",
       "      <td>Goswami, Jaideva</td>\n",
       "      <td>Wiley</td>\n",
       "    </tr>\n",
       "    <tr>\n",
       "      <th>1</th>\n",
       "      <td>Data Smart</td>\n",
       "      <td>Foreman, John</td>\n",
       "      <td>Wiley</td>\n",
       "      <td>data_science</td>\n",
       "      <td>data_science</td>\n",
       "      <td>data_science , data_science</td>\n",
       "      <td>Foreman, John</td>\n",
       "      <td>Wiley</td>\n",
       "    </tr>\n",
       "    <tr>\n",
       "      <th>2</th>\n",
       "      <td>God Created the Integers</td>\n",
       "      <td>Hawking, Stephen</td>\n",
       "      <td>Penguin</td>\n",
       "      <td>mathematics</td>\n",
       "      <td>mathematics</td>\n",
       "      <td>mathematics , mathematics</td>\n",
       "      <td>Hawking, Stephen</td>\n",
       "      <td>Penguin</td>\n",
       "    </tr>\n",
       "    <tr>\n",
       "      <th>3</th>\n",
       "      <td>Superfreakonomics</td>\n",
       "      <td>Dubner, Stephen</td>\n",
       "      <td>HarperCollins</td>\n",
       "      <td>economics</td>\n",
       "      <td>economics</td>\n",
       "      <td>economics , economics</td>\n",
       "      <td>Dubner, Stephen</td>\n",
       "      <td>HarperCollins</td>\n",
       "    </tr>\n",
       "    <tr>\n",
       "      <th>4</th>\n",
       "      <td>Orientalism</td>\n",
       "      <td>Said, Edward</td>\n",
       "      <td>Penguin</td>\n",
       "      <td>history</td>\n",
       "      <td>history</td>\n",
       "      <td>history , history</td>\n",
       "      <td>Said, Edward</td>\n",
       "      <td>Penguin</td>\n",
       "    </tr>\n",
       "    <tr>\n",
       "      <th>5</th>\n",
       "      <td>Nature of Statistical Learning Theory, The</td>\n",
       "      <td>Vapnik, Vladimir</td>\n",
       "      <td>Springer</td>\n",
       "      <td>data_science</td>\n",
       "      <td>data_science</td>\n",
       "      <td>data_science , data_science</td>\n",
       "      <td>Vapnik, Vladimir</td>\n",
       "      <td>Springer</td>\n",
       "    </tr>\n",
       "    <tr>\n",
       "      <th>6</th>\n",
       "      <td>Integration of the Indian States</td>\n",
       "      <td>Menon, V P</td>\n",
       "      <td>Orient Blackswan</td>\n",
       "      <td>history</td>\n",
       "      <td>history</td>\n",
       "      <td>history , history</td>\n",
       "      <td>Menon, V P</td>\n",
       "      <td>Orient Blackswan</td>\n",
       "    </tr>\n",
       "    <tr>\n",
       "      <th>7</th>\n",
       "      <td>Drunkard's Walk, The</td>\n",
       "      <td>Mlodinow, Leonard</td>\n",
       "      <td>Penguin</td>\n",
       "      <td>science</td>\n",
       "      <td>mathematics</td>\n",
       "      <td>mathematics , science</td>\n",
       "      <td>Mlodinow, Leonard</td>\n",
       "      <td>Penguin</td>\n",
       "    </tr>\n",
       "    <tr>\n",
       "      <th>8</th>\n",
       "      <td>Image Processing &amp; Mathematical Morphology</td>\n",
       "      <td>Shih, Frank</td>\n",
       "      <td>CRC</td>\n",
       "      <td>signal_processing</td>\n",
       "      <td>signal_processing</td>\n",
       "      <td>signal_processing , signal_processing</td>\n",
       "      <td>Shih, Frank</td>\n",
       "      <td>CRC</td>\n",
       "    </tr>\n",
       "    <tr>\n",
       "      <th>9</th>\n",
       "      <td>How to Think Like Sherlock Holmes</td>\n",
       "      <td>Konnikova, Maria</td>\n",
       "      <td>Penguin</td>\n",
       "      <td>psychology</td>\n",
       "      <td>psychology</td>\n",
       "      <td>psychology , psychology</td>\n",
       "      <td>Konnikova, Maria</td>\n",
       "      <td>Penguin</td>\n",
       "    </tr>\n",
       "    <tr>\n",
       "      <th>10</th>\n",
       "      <td>Data Scientists at Work</td>\n",
       "      <td>Sebastian Gutierrez</td>\n",
       "      <td>Apress</td>\n",
       "      <td>data_science</td>\n",
       "      <td>data_science</td>\n",
       "      <td>data_science , data_science</td>\n",
       "      <td>Sebastian Gutierrez</td>\n",
       "      <td>Apress</td>\n",
       "    </tr>\n",
       "    <tr>\n",
       "      <th>11</th>\n",
       "      <td>Slaughterhouse Five</td>\n",
       "      <td>Vonnegut, Kurt</td>\n",
       "      <td>Random House</td>\n",
       "      <td>fiction</td>\n",
       "      <td>classic</td>\n",
       "      <td>classic , fiction</td>\n",
       "      <td>Vonnegut, Kurt</td>\n",
       "      <td>Random House</td>\n",
       "    </tr>\n",
       "    <tr>\n",
       "      <th>12</th>\n",
       "      <td>Birth of a Theorem</td>\n",
       "      <td>Villani, Cedric</td>\n",
       "      <td>Bodley Head</td>\n",
       "      <td>mathematics</td>\n",
       "      <td>mathematics</td>\n",
       "      <td>mathematics , mathematics</td>\n",
       "      <td>Villani, Cedric</td>\n",
       "      <td>Bodley Head</td>\n",
       "    </tr>\n",
       "    <tr>\n",
       "      <th>13</th>\n",
       "      <td>Structure &amp; Interpretation of Computer Programs</td>\n",
       "      <td>Sussman, Gerald</td>\n",
       "      <td>MIT Press</td>\n",
       "      <td>computer_science</td>\n",
       "      <td>computer_science</td>\n",
       "      <td>computer_science , computer_science</td>\n",
       "      <td>Sussman, Gerald</td>\n",
       "      <td>MIT Press</td>\n",
       "    </tr>\n",
       "    <tr>\n",
       "      <th>14</th>\n",
       "      <td>Age of Wrath, The</td>\n",
       "      <td>Eraly, Abraham</td>\n",
       "      <td>Penguin</td>\n",
       "      <td>history</td>\n",
       "      <td>history</td>\n",
       "      <td>history , history</td>\n",
       "      <td>Eraly, Abraham</td>\n",
       "      <td>Penguin</td>\n",
       "    </tr>\n",
       "  </tbody>\n",
       "</table>\n",
       "</div>"
      ],
      "text/plain": [
       "                                              Title             Author_x  \\\n",
       "0                          Fundamentals of Wavelets     Goswami, Jaideva   \n",
       "1                                        Data Smart        Foreman, John   \n",
       "2                          God Created the Integers     Hawking, Stephen   \n",
       "3                                 Superfreakonomics      Dubner, Stephen   \n",
       "4                                       Orientalism         Said, Edward   \n",
       "5        Nature of Statistical Learning Theory, The     Vapnik, Vladimir   \n",
       "6                  Integration of the Indian States           Menon, V P   \n",
       "7                              Drunkard's Walk, The    Mlodinow, Leonard   \n",
       "8        Image Processing & Mathematical Morphology          Shih, Frank   \n",
       "9                 How to Think Like Sherlock Holmes     Konnikova, Maria   \n",
       "10                          Data Scientists at Work  Sebastian Gutierrez   \n",
       "11                              Slaughterhouse Five       Vonnegut, Kurt   \n",
       "12                               Birth of a Theorem      Villani, Cedric   \n",
       "13  Structure & Interpretation of Computer Programs      Sussman, Gerald   \n",
       "14                                Age of Wrath, The       Eraly, Abraham   \n",
       "\n",
       "         Publisher_x            Genre_x           SubGenre  \\\n",
       "0              Wiley  signal_processing  signal_processing   \n",
       "1              Wiley       data_science       data_science   \n",
       "2            Penguin        mathematics        mathematics   \n",
       "3      HarperCollins          economics          economics   \n",
       "4            Penguin            history            history   \n",
       "5           Springer       data_science       data_science   \n",
       "6   Orient Blackswan            history            history   \n",
       "7            Penguin            science        mathematics   \n",
       "8                CRC  signal_processing  signal_processing   \n",
       "9            Penguin         psychology         psychology   \n",
       "10            Apress       data_science       data_science   \n",
       "11      Random House            fiction            classic   \n",
       "12       Bodley Head        mathematics        mathematics   \n",
       "13         MIT Press   computer_science   computer_science   \n",
       "14           Penguin            history            history   \n",
       "\n",
       "                                   Genres               Author  \\\n",
       "0   signal_processing , signal_processing     Goswami, Jaideva   \n",
       "1             data_science , data_science        Foreman, John   \n",
       "2               mathematics , mathematics     Hawking, Stephen   \n",
       "3                   economics , economics      Dubner, Stephen   \n",
       "4                       history , history         Said, Edward   \n",
       "5             data_science , data_science     Vapnik, Vladimir   \n",
       "6                       history , history           Menon, V P   \n",
       "7                   mathematics , science    Mlodinow, Leonard   \n",
       "8   signal_processing , signal_processing          Shih, Frank   \n",
       "9                 psychology , psychology     Konnikova, Maria   \n",
       "10            data_science , data_science  Sebastian Gutierrez   \n",
       "11                      classic , fiction       Vonnegut, Kurt   \n",
       "12              mathematics , mathematics      Villani, Cedric   \n",
       "13    computer_science , computer_science      Sussman, Gerald   \n",
       "14                      history , history       Eraly, Abraham   \n",
       "\n",
       "           Publisher  \n",
       "0              Wiley  \n",
       "1              Wiley  \n",
       "2            Penguin  \n",
       "3      HarperCollins  \n",
       "4            Penguin  \n",
       "5           Springer  \n",
       "6   Orient Blackswan  \n",
       "7            Penguin  \n",
       "8                CRC  \n",
       "9            Penguin  \n",
       "10            Apress  \n",
       "11      Random House  \n",
       "12       Bodley Head  \n",
       "13         MIT Press  \n",
       "14           Penguin  "
      ]
     },
     "execution_count": 301,
     "metadata": {},
     "output_type": "execute_result"
    }
   ],
   "source": [
    "books_data.head(15)"
   ]
  },
  {
   "cell_type": "code",
   "execution_count": 302,
   "id": "f2f5e5c6",
   "metadata": {
    "pycharm": {
     "name": "#%%\n"
    }
   },
   "outputs": [
    {
     "data": {
      "text/html": [
       "<div>\n",
       "<style scoped>\n",
       "    .dataframe tbody tr th:only-of-type {\n",
       "        vertical-align: middle;\n",
       "    }\n",
       "\n",
       "    .dataframe tbody tr th {\n",
       "        vertical-align: top;\n",
       "    }\n",
       "\n",
       "    .dataframe thead th {\n",
       "        text-align: right;\n",
       "    }\n",
       "</style>\n",
       "<table border=\"1\" class=\"dataframe\">\n",
       "  <thead>\n",
       "    <tr style=\"text-align: right;\">\n",
       "      <th></th>\n",
       "      <th>Title</th>\n",
       "      <th>Author</th>\n",
       "      <th>Publisher</th>\n",
       "      <th>Genres</th>\n",
       "    </tr>\n",
       "  </thead>\n",
       "  <tbody>\n",
       "    <tr>\n",
       "      <th>0</th>\n",
       "      <td>Fundamentals of Wavelets</td>\n",
       "      <td>Goswami, Jaideva</td>\n",
       "      <td>Wiley</td>\n",
       "      <td>signal_processing , signal_processing</td>\n",
       "    </tr>\n",
       "    <tr>\n",
       "      <th>1</th>\n",
       "      <td>Data Smart</td>\n",
       "      <td>Foreman, John</td>\n",
       "      <td>Wiley</td>\n",
       "      <td>data_science , data_science</td>\n",
       "    </tr>\n",
       "  </tbody>\n",
       "</table>\n",
       "</div>"
      ],
      "text/plain": [
       "                      Title            Author Publisher  \\\n",
       "0  Fundamentals of Wavelets  Goswami, Jaideva     Wiley   \n",
       "1                Data Smart     Foreman, John     Wiley   \n",
       "\n",
       "                                  Genres  \n",
       "0  signal_processing , signal_processing  \n",
       "1            data_science , data_science  "
      ]
     },
     "execution_count": 302,
     "metadata": {},
     "output_type": "execute_result"
    }
   ],
   "source": [
    "Book = books_data[['Title','Author','Publisher','Genres']]\n",
    "Book.head(2)"
   ]
  },
  {
   "cell_type": "code",
   "execution_count": 303,
   "id": "a5bb7b49",
   "metadata": {
    "pycharm": {
     "name": "#%%\n"
    }
   },
   "outputs": [
    {
     "data": {
      "text/plain": [
       "(113, 4)"
      ]
     },
     "execution_count": 303,
     "metadata": {},
     "output_type": "execute_result"
    }
   ],
   "source": [
    "Book.shape"
   ]
  },
  {
   "cell_type": "code",
   "execution_count": 304,
   "id": "c8c2fe28",
   "metadata": {
    "pycharm": {
     "name": "#%%\n"
    }
   },
   "outputs": [],
   "source": [
    "from sklearn.feature_extraction.text import CountVectorizer\n",
    "cv = CountVectorizer(max_features=500,stop_words='english')"
   ]
  },
  {
   "cell_type": "code",
   "execution_count": 305,
   "id": "a5910c4b",
   "metadata": {
    "pycharm": {
     "name": "#%%\n"
    }
   },
   "outputs": [],
   "source": [
    "vectors = cv.fit_transform(Book['Genres']).toarray()"
   ]
  },
  {
   "cell_type": "code",
   "execution_count": 306,
   "id": "27f0a17e",
   "metadata": {
    "pycharm": {
     "name": "#%%\n"
    }
   },
   "outputs": [
    {
     "data": {
      "text/plain": [
       "array([[0, 0, 0, ..., 0, 2, 0],\n",
       "       [0, 0, 0, ..., 0, 0, 0],\n",
       "       [0, 0, 0, ..., 0, 0, 0],\n",
       "       ...,\n",
       "       [1, 0, 0, ..., 0, 0, 0],\n",
       "       [0, 1, 0, ..., 0, 0, 0],\n",
       "       [0, 0, 1, ..., 0, 0, 0]], dtype=int64)"
      ]
     },
     "execution_count": 306,
     "metadata": {},
     "output_type": "execute_result"
    }
   ],
   "source": [
    "vectors"
   ]
  },
  {
   "cell_type": "code",
   "execution_count": 307,
   "id": "e51bdf2e",
   "metadata": {
    "pycharm": {
     "name": "#%%\n"
    }
   },
   "outputs": [
    {
     "data": {
      "text/plain": [
       "array([0, 0, 0, 0, 0, 0, 0, 0, 0, 0, 0, 0, 0, 0, 0, 0, 0, 0, 0, 2, 0],\n",
       "      dtype=int64)"
      ]
     },
     "execution_count": 307,
     "metadata": {},
     "output_type": "execute_result"
    }
   ],
   "source": [
    "vectors[0]"
   ]
  },
  {
   "cell_type": "code",
   "execution_count": 308,
   "id": "48b24a90",
   "metadata": {
    "pycharm": {
     "name": "#%%\n"
    }
   },
   "outputs": [
    {
     "name": "stderr",
     "output_type": "stream",
     "text": [
      "C:\\Users\\Kajal\\anaconda3\\lib\\site-packages\\sklearn\\utils\\deprecation.py:87: FutureWarning: Function get_feature_names is deprecated; get_feature_names is deprecated in 1.0 and will be removed in 1.2. Please use get_feature_names_out instead.\n",
      "  warnings.warn(msg, category=FutureWarning)\n"
     ]
    },
    {
     "data": {
      "text/plain": [
       "['anthology',\n",
       " 'autobiography',\n",
       " 'classic',\n",
       " 'computer_science',\n",
       " 'data_science',\n",
       " 'economics',\n",
       " 'education',\n",
       " 'fiction',\n",
       " 'history',\n",
       " 'mathematics',\n",
       " 'misc',\n",
       " 'nonfiction',\n",
       " 'novel',\n",
       " 'objectivism',\n",
       " 'philosophy',\n",
       " 'physics',\n",
       " 'poetry',\n",
       " 'psychology',\n",
       " 'science',\n",
       " 'signal_processing',\n",
       " 'trivia']"
      ]
     },
     "execution_count": 308,
     "metadata": {},
     "output_type": "execute_result"
    }
   ],
   "source": [
    "cv.get_feature_names()"
   ]
  },
  {
   "cell_type": "code",
   "execution_count": 309,
   "id": "68065ae0",
   "metadata": {
    "pycharm": {
     "name": "#%%\n"
    }
   },
   "outputs": [
    {
     "data": {
      "text/plain": [
       "21"
      ]
     },
     "execution_count": 309,
     "metadata": {},
     "output_type": "execute_result"
    }
   ],
   "source": [
    "len(cv.get_feature_names())"
   ]
  },
  {
   "cell_type": "code",
   "execution_count": 310,
   "id": "55f6cd1a",
   "metadata": {
    "pycharm": {
     "name": "#%%\n"
    }
   },
   "outputs": [],
   "source": [
    "# we have to fine cosine distance\n",
    "\n",
    "from sklearn.metrics.pairwise import cosine_similarity"
   ]
  },
  {
   "cell_type": "code",
   "execution_count": 311,
   "id": "ff4a7b0e",
   "metadata": {
    "pycharm": {
     "name": "#%%\n"
    }
   },
   "outputs": [],
   "source": [
    "similarity = cosine_similarity(vectors)"
   ]
  },
  {
   "cell_type": "code",
   "execution_count": 312,
   "id": "06c6f40a",
   "metadata": {
    "pycharm": {
     "name": "#%%\n"
    }
   },
   "outputs": [
    {
     "data": {
      "text/plain": [
       "array([[1. , 0. , 0. , ..., 0. , 0. , 0. ],\n",
       "       [0. , 1. , 0. , ..., 0. , 0. , 0. ],\n",
       "       [0. , 0. , 1. , ..., 0. , 0. , 0. ],\n",
       "       ...,\n",
       "       [0. , 0. , 0. , ..., 1. , 0.5, 0. ],\n",
       "       [0. , 0. , 0. , ..., 0.5, 1. , 0. ],\n",
       "       [0. , 0. , 0. , ..., 0. , 0. , 1. ]])"
      ]
     },
     "execution_count": 312,
     "metadata": {},
     "output_type": "execute_result"
    }
   ],
   "source": [
    "similarity"
   ]
  },
  {
   "cell_type": "code",
   "execution_count": 341,
   "id": "d8784228",
   "metadata": {
    "pycharm": {
     "name": "#%%\n"
    }
   },
   "outputs": [],
   "source": [
    "def recommend(book_name):\n",
    "    book_index  = Book[Book['Title']== book_name].index[0]\n",
    "    print(book_index)\n",
    "    distences = similarity[book_index]\n",
    "    book_list = sorted(list(enumerate(distences)),reverse=True,key=lambda x:x[1])[1:6]\n",
    "    \n",
    "    for i in book_list:\n",
    "        print(Book.iloc[i[0]])"
   ]
  },
  {
   "cell_type": "code",
   "execution_count": 342,
   "id": "b96670fd",
   "metadata": {
    "pycharm": {
     "name": "#%%\n"
    }
   },
   "outputs": [
    {
     "name": "stdout",
     "output_type": "stream",
     "text": [
      "0\n",
      "Title        Image Processing & Mathematical Morphology\n",
      "Author                                      Shih, Frank\n",
      "Publisher                                           CRC\n",
      "Genres            signal_processing , signal_processing\n",
      "Name: 8, dtype: object\n",
      "Title                         Learning OpenCV\n",
      "Author                          Bradsky, Gary\n",
      "Publisher                            O'Reilly\n",
      "Genres       signal_processing , data_science\n",
      "Name: 58, dtype: object\n",
      "Title        Computer Vision, A Modern Approach\n",
      "Author                           Forsyth, David\n",
      "Publisher                               Pearson\n",
      "Genres         signal_processing , data_science\n",
      "Name: 60, dtype: object\n",
      "Title         Principles of Communication Systems\n",
      "Author                            Taub, Schilling\n",
      "Publisher                                     TMH\n",
      "Genres       signal_processing , computer_science\n",
      "Name: 61, dtype: object\n",
      "Title                         Data Smart\n",
      "Author                     Foreman, John\n",
      "Publisher                          Wiley\n",
      "Genres       data_science , data_science\n",
      "Name: 1, dtype: object\n"
     ]
    }
   ],
   "source": [
    "recommend('Fundamentals of Wavelets')"
   ]
  },
  {
   "cell_type": "code",
   "execution_count": 315,
   "id": "e3a9a834",
   "metadata": {
    "pycharm": {
     "name": "#%%\n"
    }
   },
   "outputs": [
    {
     "name": "stdout",
     "output_type": "stream",
     "text": [
      "Nature of Statistical Learning Theory, The\n",
      "Data Scientists at Work\n",
      "Statistical Decision Theory'\n",
      "Data Mining Handbook\n",
      "Machine Learning for Hackers\n"
     ]
    }
   ],
   "source": [
    "recommend('Data Smart')"
   ]
  },
  {
   "cell_type": "code",
   "execution_count": 316,
   "id": "3c8b7b9c",
   "metadata": {
    "pycharm": {
     "name": "#%%\n"
    }
   },
   "outputs": [
    {
     "name": "stdout",
     "output_type": "stream",
     "text": [
      "Birth of a Theorem\n",
      "Analysis, Vol I\n",
      "Drunkard's Walk, The\n",
      "Artist and the Mathematician, The\n",
      "Fundamentals of Wavelets\n"
     ]
    }
   ],
   "source": [
    "recommend('God Created the Integers')"
   ]
  },
  {
   "cell_type": "code",
   "execution_count": 317,
   "id": "77906139",
   "metadata": {
    "pycharm": {
     "name": "#%%\n"
    }
   },
   "outputs": [
    {
     "name": "stdout",
     "output_type": "stream",
     "text": [
      "Nature of Statistical Learning Theory, The\n",
      "Data Scientists at Work\n",
      "Statistical Decision Theory'\n",
      "Data Mining Handbook\n",
      "Machine Learning for Hackers\n"
     ]
    }
   ],
   "source": [
    "recommend('Nature of Statistical Learning Theory, The')"
   ]
  },
  {
   "cell_type": "code",
   "execution_count": 344,
   "id": "cad5e122",
   "metadata": {
    "pycharm": {
     "name": "#%%\n"
    }
   },
   "outputs": [
    {
     "data": {
      "text/plain": [
       "array(['Fundamentals of Wavelets', 'Data Smart',\n",
       "       'God Created the Integers', 'Superfreakonomics', 'Orientalism',\n",
       "       'Nature of Statistical Learning Theory, The',\n",
       "       'Integration of the Indian States', \"Drunkard's Walk, The\",\n",
       "       'Image Processing & Mathematical Morphology',\n",
       "       'How to Think Like Sherlock Holmes', 'Data Scientists at Work',\n",
       "       'Slaughterhouse Five', 'Birth of a Theorem',\n",
       "       'Structure & Interpretation of Computer Programs',\n",
       "       'Age of Wrath, The', 'Trial, The', \"Statistical Decision Theory'\",\n",
       "       'Data Mining Handbook', 'New Machiavelli, The',\n",
       "       'Physics & Philosophy', 'Making Software', 'Analysis, Vol I',\n",
       "       'Machine Learning for Hackers', 'Signal and the Noise, The',\n",
       "       'Python for Data Analysis', 'Introduction to Algorithms',\n",
       "       'Beautiful and the Damned, The', 'Outsider, The',\n",
       "       'Complete Sherlock Holmes, The - Vol I',\n",
       "       'Complete Sherlock Holmes, The - Vol II', 'Wealth of Nations, The',\n",
       "       'Pillars of the Earth, The', 'Mein Kampf', 'Tao of Physics, The',\n",
       "       \"Surely You're Joking Mr Feynman\", 'Farewell to Arms, A',\n",
       "       'Veteran, The', 'False Impressions', 'Last Lecture, The',\n",
       "       'Return of the Primitive', 'Jurassic Park', 'Russian Journal, A',\n",
       "       'Tales of Mystery and Imagination', 'Freakonomics',\n",
       "       'Hidden Connections, The', 'Story of Philosophy, The',\n",
       "       'Asami Asami', 'Journal of a Novel', 'Once There Was a War',\n",
       "       'Moon is Down, The', 'Brethren, The', 'In a Free State',\n",
       "       'Catch 22', 'Complete Mastermind, The', 'Dylan on Dylan',\n",
       "       'Soft Computing & Intelligent Systems',\n",
       "       'Textbook of Economic Theory', 'Econometric Analysis',\n",
       "       'Learning OpenCV', 'Data Structures Using C & C++',\n",
       "       'Computer Vision, A Modern Approach',\n",
       "       'Principles of Communication Systems', 'Let Us C',\n",
       "       'Amulet of Samarkand, The', 'Crime and Punishment',\n",
       "       'Angels & Demons', 'Angels & Demons', 'Argumentative Indian, The',\n",
       "       'Sea of Poppies', 'Idea of Justice, The', 'Raisin in the Sun, A',\n",
       "       \"All the President's Men\", 'Prisoner of Birth, A', 'Scoop!',\n",
       "       'Ahe Manohar Tari', 'Last Mughal, The',\n",
       "       'Social Choice & Welfare, Vol 39 No. 1',\n",
       "       'Radiowaril Bhashane & Shrutika', 'Gun Gayin Awadi',\n",
       "       'Aghal Paghal', 'Maqta-e-Ghalib', 'Manasa',\n",
       "       'India from Midnight to Milennium', 'Great Indian Novel, The',\n",
       "       'O Jerusalem!', 'City of Joy, The', 'Freedom at Midnight',\n",
       "       'Winter of Our Discontent, The', 'On Education', 'Free Will',\n",
       "       'Bookless in Baghdad', 'Theory of Everything, The',\n",
       "       'New Markets & Other Essays', 'Electric Universe',\n",
       "       'Hunchback of Notre Dame, The', 'Burning Bright',\n",
       "       'Age of Discontuinity, The', 'Doctor in the Nude',\n",
       "       'Down and Out in Paris & London', 'Identity & Violence',\n",
       "       'Beyond the Three Seas',\n",
       "       \"Maugham's Collected Short Stories, Vol 3\",\n",
       "       'Ashenden of The British Agent',\n",
       "       'Zen & The Art of Motorcycle Maintenance',\n",
       "       'Great War for Civilization, The', 'We the Living',\n",
       "       'Artist and the Mathematician, The',\n",
       "       'History of Western Philosophy', 'Rationality & Freedom',\n",
       "       'Clash of Civilizations and Remaking of the World Order',\n",
       "       'Uncommon Wisdom', 'One', 'To Sir With Love'], dtype=object)"
      ]
     },
     "execution_count": 344,
     "metadata": {},
     "output_type": "execute_result"
    }
   ],
   "source": [
    "Book['Title'].values\n"
   ]
  },
  {
   "cell_type": "code",
   "execution_count": 319,
   "id": "20e3e38c",
   "metadata": {
    "pycharm": {
     "name": "#%%\n"
    }
   },
   "outputs": [],
   "source": [
    "import pickle\n",
    "pickle.dump(Book,open('Books.pkl',\"wb\"))"
   ]
  },
  {
   "cell_type": "code",
   "execution_count": 320,
   "id": "a7ca3346",
   "metadata": {
    "pycharm": {
     "name": "#%%\n"
    }
   },
   "outputs": [],
   "source": [
    "pickle.dump(similarity,open('similarity.pkl','wb'))"
   ]
  },
  {
   "cell_type": "code",
   "execution_count": 346,
   "id": "1bfcd21e",
   "metadata": {
    "pycharm": {
     "name": "#%%\n"
    }
   },
   "outputs": [],
   "source": [
    "pickle.dump(Book.to_dict(),open('Books_dict.pkl','wb'))"
   ]
  },
  {
   "cell_type": "code",
   "execution_count": null,
   "id": "4cab6989",
   "metadata": {
    "pycharm": {
     "name": "#%%\n"
    }
   },
   "outputs": [],
   "source": []
  }
 ],
 "metadata": {
  "kernelspec": {
   "display_name": "Python 3 (ipykernel)",
   "language": "python",
   "name": "python3"
  },
  "language_info": {
   "codemirror_mode": {
    "name": "ipython",
    "version": 3
   },
   "file_extension": ".py",
   "mimetype": "text/x-python",
   "name": "python",
   "nbconvert_exporter": "python",
   "pygments_lexer": "ipython3",
   "version": "3.9.12"
  }
 },
 "nbformat": 4,
 "nbformat_minor": 5
}